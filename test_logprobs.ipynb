{
 "cells": [
  {
   "cell_type": "code",
   "execution_count": 1,
   "id": "1b3f9e11-abdd-48d4-bb21-5deda533d873",
   "metadata": {},
   "outputs": [],
   "source": [
    "import os\n",
    "from math import exp\n",
    "\n",
    "import numpy as np\n",
    "from IPython.display import HTML, display\n",
    "from openai import OpenAI\n",
    "\n",
    "from pydantic import BaseModel,Field\n",
    "\n",
    "client = OpenAI(api_key=os.environ.get(\"OPENAI_API_KEY\"))"
   ]
  },
  {
   "cell_type": "code",
   "execution_count": 20,
   "id": "c4888ad5-1656-4566-b680-ccc3c7d16150",
   "metadata": {},
   "outputs": [],
   "source": [
    "def get_completion(\n",
    "    messages: list[dict[str, str]],\n",
    "    model: str = \"gpt-4o-mini\",\n",
    "    max_tokens=500,\n",
    "    temperature=0,\n",
    "    stop=None,\n",
    "    seed=123,\n",
    "    tools=None,\n",
    "    logprobs=None,  # whether to return log probabilities of the output tokens or not. If true, returns the log probabilities of each output token returned in the content of message..\n",
    "    top_logprobs=None,\n",
    ") -> str:\n",
    "    params = {\n",
    "        \"model\": model,\n",
    "        \"messages\": messages,\n",
    "        \"max_tokens\": max_tokens,\n",
    "        \"temperature\": temperature,\n",
    "        \"stop\": stop,\n",
    "        \"seed\": seed,\n",
    "        \"logprobs\": logprobs,\n",
    "        \"top_logprobs\": top_logprobs,\n",
    "    }\n",
    "    if tools:\n",
    "        params[\"tools\"] = tools\n",
    "\n",
    "    completion = client.chat.completions.create(**params)\n",
    "    return completion"
   ]
  },
  {
   "cell_type": "code",
   "execution_count": 3,
   "id": "749f479b-30a3-49fe-acb0-d3783433f1c2",
   "metadata": {},
   "outputs": [],
   "source": [
    "CLASSIFICATION_PROMPT = \"\"\"You will be given a headline of a news article.\n",
    "Classify the article into one of the following categories: Technology, Politics, Sports, and Art.\n",
    "Return only the name of the category, and nothing else.\n",
    "MAKE SURE your output is one of the four categories stated.\n",
    "Article headline: {headline}\"\"\""
   ]
  },
  {
   "cell_type": "code",
   "execution_count": 4,
   "id": "ee203d59-630d-4163-ad50-69de286f6c68",
   "metadata": {},
   "outputs": [],
   "source": [
    "headlines = [\n",
    "    \"Tech Giant Unveils Latest Smartphone Model with Advanced Photo-Editing Features.\",\n",
    "    \"Local Mayor Launches Initiative to Enhance Urban Public Transport.\",\n",
    "    \"Tennis Champion Showcases Hidden Talents in Symphony Orchestra Debut\",\n",
    "]"
   ]
  },
  {
   "cell_type": "code",
   "execution_count": 5,
   "id": "7858c560-4f90-4079-9282-be64d348a14b",
   "metadata": {},
   "outputs": [
    {
     "name": "stdout",
     "output_type": "stream",
     "text": [
      "\n",
      "Headline: Tech Giant Unveils Latest Smartphone Model with Advanced Photo-Editing Features.\n"
     ]
    },
    {
     "data": {
      "text/html": [
       "<span style='color: cyan'>Output token 1:</span> Technology, <span style='color: darkorange'>logprobs:</span> 0.0, <span style='color: magenta'>linear probability:</span> 100.0%<br><span style='color: cyan'>Output token 2:</span>  Technology, <span style='color: darkorange'>logprobs:</span> -19.0, <span style='color: magenta'>linear probability:</span> 0.0%<br>"
      ],
      "text/plain": [
       "<IPython.core.display.HTML object>"
      ]
     },
     "metadata": {},
     "output_type": "display_data"
    },
    {
     "name": "stdout",
     "output_type": "stream",
     "text": [
      "\n",
      "\n",
      "\n",
      "Headline: Local Mayor Launches Initiative to Enhance Urban Public Transport.\n"
     ]
    },
    {
     "data": {
      "text/html": [
       "<span style='color: cyan'>Output token 1:</span> Politics, <span style='color: darkorange'>logprobs:</span> -3.1281633e-07, <span style='color: magenta'>linear probability:</span> 100.0%<br><span style='color: cyan'>Output token 2:</span> Polit, <span style='color: darkorange'>logprobs:</span> -16.0, <span style='color: magenta'>linear probability:</span> 0.0%<br>"
      ],
      "text/plain": [
       "<IPython.core.display.HTML object>"
      ]
     },
     "metadata": {},
     "output_type": "display_data"
    },
    {
     "name": "stdout",
     "output_type": "stream",
     "text": [
      "\n",
      "\n",
      "\n",
      "Headline: Tennis Champion Showcases Hidden Talents in Symphony Orchestra Debut\n"
     ]
    },
    {
     "data": {
      "text/html": [
       "<span style='color: cyan'>Output token 1:</span> Art, <span style='color: darkorange'>logprobs:</span> -0.023291714, <span style='color: magenta'>linear probability:</span> 97.7%<br><span style='color: cyan'>Output token 2:</span> Arts, <span style='color: darkorange'>logprobs:</span> -4.0232916, <span style='color: magenta'>linear probability:</span> 1.79%<br>"
      ],
      "text/plain": [
       "<IPython.core.display.HTML object>"
      ]
     },
     "metadata": {},
     "output_type": "display_data"
    },
    {
     "name": "stdout",
     "output_type": "stream",
     "text": [
      "\n",
      "\n"
     ]
    }
   ],
   "source": [
    "for headline in headlines:\n",
    "    print(f\"\\nHeadline: {headline}\")\n",
    "    API_RESPONSE = get_completion(\n",
    "        [{\"role\": \"user\", \"content\": CLASSIFICATION_PROMPT.format(headline=headline)}],\n",
    "        logprobs=True,\n",
    "        top_logprobs=2,\n",
    "    )\n",
    "    top_two_logprobs = API_RESPONSE.choices[0].logprobs.content[0].top_logprobs\n",
    "    html_content = \"\"\n",
    "    for i, logprob in enumerate(top_two_logprobs, start=1):\n",
    "        html_content += (\n",
    "            f\"<span style='color: cyan'>Output token {i}:</span> {logprob.token}, \"\n",
    "            f\"<span style='color: darkorange'>logprobs:</span> {logprob.logprob}, \"\n",
    "            f\"<span style='color: magenta'>linear probability:</span> {np.round(np.exp(logprob.logprob)*100,2)}%<br>\"\n",
    "        )\n",
    "    display(HTML(html_content))\n",
    "    print(\"\\n\")"
   ]
  },
  {
   "cell_type": "markdown",
   "id": "faf50468-9f9d-4863-a73d-44b38d32286c",
   "metadata": {},
   "source": [
    "---"
   ]
  },
  {
   "cell_type": "code",
   "execution_count": 15,
   "id": "0ed9211a-1faa-4123-a5d5-59fbbbf5e0c1",
   "metadata": {},
   "outputs": [],
   "source": [
    "TEST_PROMPT = \"\"\"Give me the name of the president of US at year 2000, return only the name, and nothing else\"\"\""
   ]
  },
  {
   "cell_type": "code",
   "execution_count": 16,
   "id": "a0a39159-07d2-40e8-b1d3-508b0ec49ede",
   "metadata": {},
   "outputs": [
    {
     "data": {
      "text/html": [
       "Question: Give me the name of the president of US at year 2000, return only the name, and nothing else<br>Answer: Bill Clinton<br><span style='color: cyan'>Output token 1:</span><br>Bill, <span style='color: darkorange'>logprobs:</span> -2.868329e-05, <span style='color: magenta'>linear probability:</span> 100.0%<br>William, <span style='color: darkorange'>logprobs:</span> -10.500029, <span style='color: magenta'>linear probability:</span> 0.0%<br> Bill, <span style='color: darkorange'>logprobs:</span> -14.500029, <span style='color: magenta'>linear probability:</span> 0.0%<br><span style='color: cyan'>Output token 2:</span><br> Clinton, <span style='color: darkorange'>logprobs:</span> -1.9361265e-07, <span style='color: magenta'>linear probability:</span> 100.0%<br> Clint, <span style='color: darkorange'>logprobs:</span> -17.125, <span style='color: magenta'>linear probability:</span> 0.0%<br> Cl, <span style='color: darkorange'>logprobs:</span> -17.5, <span style='color: magenta'>linear probability:</span> 0.0%<br>"
      ],
      "text/plain": [
       "<IPython.core.display.HTML object>"
      ]
     },
     "metadata": {},
     "output_type": "display_data"
    },
    {
     "name": "stdout",
     "output_type": "stream",
     "text": [
      "\n",
      "\n"
     ]
    }
   ],
   "source": [
    "api_response=get_completion(\n",
    "    [{\"role\":\"user\",\"content\":TEST_PROMPT}],\n",
    "    logprobs=True,\n",
    "    top_logprobs=3,\n",
    ")\n",
    "generate_answer=api_response.choices[0].message.content\n",
    "\n",
    "possible_tokens = api_response.choices[0].logprobs.content\n",
    "html_content = f\"Question: {TEST_PROMPT}<br>Answer: {generate_answer}<br>\"\n",
    "for i , token in enumerate(possible_tokens,start=1):\n",
    "    html_content+=f\"<span style='color: cyan'>Output token {i}:</span><br>\"\n",
    "    for j, logprob in enumerate(token.top_logprobs):\n",
    "        html_content += (\n",
    "            f\"{logprob.token}, <span style='color: darkorange'>logprobs:</span> {logprob.logprob}, \"\n",
    "            f\"<span style='color: magenta'>linear probability:</span> {np.round(np.exp(logprob.logprob)*100,2)}%<br>\"\n",
    "        )\n",
    "display(HTML(html_content))\n",
    "print(\"\\n\")"
   ]
  },
  {
   "cell_type": "markdown",
   "id": "2a50fc5d-a1c3-426d-a58b-0b1d622232cb",
   "metadata": {},
   "source": [
    "---"
   ]
  },
  {
   "cell_type": "code",
   "execution_count": 78,
   "id": "0a8e3978-3bf9-4721-b8b6-4ceb2afe2087",
   "metadata": {},
   "outputs": [],
   "source": [
    "SYS_PROMPT=\"\"\"You are given an article: {article}. You are going to answer user's question only based on this article, but before you answer the question, \\\n",
    "        please consider if you have sufficient information in the article to answer the question. \\\n",
    "        Then answer the question. Even you do not have sufficient information in the article, you still need to answer the question, return the answer of the question, nothing else. \\\n",
    "        After you answer the question, please check if your answer is fully based on the article given.\"\"\"\n",
    "USER_PROMPT=\"\"\"Question: {question}\"\"\"\n",
    "ARTICLE=\"The president of the US at year of 2000 is Bill Clinton, and the president of the US at year 2024 is Joe Biden\"\n",
    "QUESTION=\"Give me the name of the president of US at year 2010, return only the name, and nothing else\""
   ]
  },
  {
   "cell_type": "code",
   "execution_count": 81,
   "id": "25ec8a09-32db-4ddc-af4f-18316297574d",
   "metadata": {},
   "outputs": [
    {
     "name": "stdout",
     "output_type": "stream",
     "text": [
      "No\n",
      "Bill Clinton\n",
      "Yes\n"
     ]
    }
   ],
   "source": [
    "class PresidentName(BaseModel):\n",
    "    pre_validation: str = Field(description=\"Before you answer, consider if you have sufficient information in the article to answer the question, Yes or No only, nothing else\")\n",
    "    president_name: str = Field(description=\"The name of the president, nothing else. You have to give a name no matter what.\")\n",
    "    post_validation: str = Field(descrption=\"After you answer the question, check if your answer is fully based on the article given, Yes or On only, nothing else\")\n",
    "\n",
    "completion = client.beta.chat.completions.parse(\n",
    "    model=\"gpt-4o-2024-08-06\",\n",
    "    #model=\"gpt-4o-mini\",\n",
    "    messages=[\n",
    "        {\"role\": \"system\", \"content\": SYS_PROMPT.format(article=ARTICLE)},\n",
    "        {\"role\": \"user\", \"content\": USER_PROMPT.format(question=QUESTION)},\n",
    "    ],\n",
    "    response_format=PresidentName,\n",
    "    logprobs=True,\n",
    "    top_logprobs=2,\n",
    ")\n",
    "\n",
    "message = completion.choices[0].message\n",
    "if message.parsed:\n",
    "    print(message.parsed.pre_validation)\n",
    "    print(message.parsed.president_name)\n",
    "    print(message.parsed.post_validation)\n",
    "else:\n",
    "    print(message.refusal)"
   ]
  },
  {
   "cell_type": "code",
   "execution_count": 82,
   "id": "e8ea51e0-c748-49ab-b976-95aa08fcbf42",
   "metadata": {},
   "outputs": [
    {
     "data": {
      "text/html": [
       "Question: Give me the name of the president of US at year 2010, return only the name, and nothing else<br>Answer: Bill Clinton<br><span style='color: cyan'>Output token 1:</span><br>{\", <span style='color: darkorange'>logprobs:</span> -1.9361265e-07, <span style='color: magenta'>linear probability:</span> 100.0%<br>{, <span style='color: darkorange'>logprobs:</span> -16.5, <span style='color: magenta'>linear probability:</span> 0.0%<br><span style='color: cyan'>Output token 2:</span><br>pre, <span style='color: darkorange'>logprobs:</span> -1.9361265e-07, <span style='color: magenta'>linear probability:</span> 100.0%<br>pr, <span style='color: darkorange'>logprobs:</span> -15.875, <span style='color: magenta'>linear probability:</span> 0.0%<br><span style='color: cyan'>Output token 3:</span><br>_validation, <span style='color: darkorange'>logprobs:</span> 0.0, <span style='color: magenta'>linear probability:</span> 100.0%<br>_valid, <span style='color: darkorange'>logprobs:</span> -20.75, <span style='color: magenta'>linear probability:</span> 0.0%<br><span style='color: cyan'>Output token 4:</span><br>\":\", <span style='color: darkorange'>logprobs:</span> 0.0, <span style='color: magenta'>linear probability:</span> 100.0%<br>\":\"\",\", <span style='color: darkorange'>logprobs:</span> -18.125, <span style='color: magenta'>linear probability:</span> 0.0%<br><span style='color: cyan'>Output token 5:</span><br>No, <span style='color: darkorange'>logprobs:</span> -0.011048762, <span style='color: magenta'>linear probability:</span> 98.9%<br>Yes, <span style='color: darkorange'>logprobs:</span> -4.511049, <span style='color: magenta'>linear probability:</span> 1.1%<br><span style='color: cyan'>Output token 6:</span><br>\",\", <span style='color: darkorange'>logprobs:</span> -1.9361265e-07, <span style='color: magenta'>linear probability:</span> 100.0%<br> \",\", <span style='color: darkorange'>logprobs:</span> -17.0, <span style='color: magenta'>linear probability:</span> 0.0%<br><span style='color: cyan'>Output token 7:</span><br>pres, <span style='color: darkorange'>logprobs:</span> -2.1008714e-06, <span style='color: magenta'>linear probability:</span> 100.0%<br>pre, <span style='color: darkorange'>logprobs:</span> -13.125002, <span style='color: magenta'>linear probability:</span> 0.0%<br><span style='color: cyan'>Output token 8:</span><br>ident, <span style='color: darkorange'>logprobs:</span> 0.0, <span style='color: magenta'>linear probability:</span> 100.0%<br>iden, <span style='color: darkorange'>logprobs:</span> -20.375, <span style='color: magenta'>linear probability:</span> 0.0%<br><span style='color: cyan'>Output token 9:</span><br>_name, <span style='color: darkorange'>logprobs:</span> 0.0, <span style='color: magenta'>linear probability:</span> 100.0%<br>_n, <span style='color: darkorange'>logprobs:</span> -21.0, <span style='color: magenta'>linear probability:</span> 0.0%<br><span style='color: cyan'>Output token 10:</span><br>\":\", <span style='color: darkorange'>logprobs:</span> -0.0007105246, <span style='color: magenta'>linear probability:</span> 99.93%<br>\":\"\",\", <span style='color: darkorange'>logprobs:</span> -7.2507105, <span style='color: magenta'>linear probability:</span> 0.07%<br><span style='color: cyan'>Output token 11:</span><br>Bill, <span style='color: darkorange'>logprobs:</span> -0.2462219, <span style='color: magenta'>linear probability:</span> 78.17%<br>Unknown, <span style='color: darkorange'>logprobs:</span> -2.371222, <span style='color: magenta'>linear probability:</span> 9.34%<br><span style='color: cyan'>Output token 12:</span><br> Clinton, <span style='color: darkorange'>logprobs:</span> -7.0285365e-05, <span style='color: magenta'>linear probability:</span> 99.99%<br> Obama, <span style='color: darkorange'>logprobs:</span> -10.500071, <span style='color: magenta'>linear probability:</span> 0.0%<br><span style='color: cyan'>Output token 13:</span><br>\",\", <span style='color: darkorange'>logprobs:</span> -5.8722613e-05, <span style='color: magenta'>linear probability:</span> 99.99%<br> or, <span style='color: darkorange'>logprobs:</span> -10.000059, <span style='color: magenta'>linear probability:</span> 0.0%<br><span style='color: cyan'>Output token 14:</span><br>post, <span style='color: darkorange'>logprobs:</span> 0.0, <span style='color: magenta'>linear probability:</span> 100.0%<br>pos, <span style='color: darkorange'>logprobs:</span> -18.0, <span style='color: magenta'>linear probability:</span> 0.0%<br><span style='color: cyan'>Output token 15:</span><br>_validation, <span style='color: darkorange'>logprobs:</span> 0.0, <span style='color: magenta'>linear probability:</span> 100.0%<br>_valid, <span style='color: darkorange'>logprobs:</span> -17.875, <span style='color: magenta'>linear probability:</span> 0.0%<br><span style='color: cyan'>Output token 16:</span><br>\":\", <span style='color: darkorange'>logprobs:</span> -1.9361265e-07, <span style='color: magenta'>linear probability:</span> 100.0%<br>\":, <span style='color: darkorange'>logprobs:</span> -16.25, <span style='color: magenta'>linear probability:</span> 0.0%<br><span style='color: cyan'>Output token 17:</span><br>Yes, <span style='color: darkorange'>logprobs:</span> -0.2519338, <span style='color: magenta'>linear probability:</span> 77.73%<br>No, <span style='color: darkorange'>logprobs:</span> -1.5019338, <span style='color: magenta'>linear probability:</span> 22.27%<br><span style='color: cyan'>Output token 18:</span><br>\"}, <span style='color: darkorange'>logprobs:</span> 0.0, <span style='color: magenta'>linear probability:</span> 100.0%<br>\"}\n",
       "\n",
       ", <span style='color: darkorange'>logprobs:</span> -17.5, <span style='color: magenta'>linear probability:</span> 0.0%<br>"
      ],
      "text/plain": [
       "<IPython.core.display.HTML object>"
      ]
     },
     "metadata": {},
     "output_type": "display_data"
    },
    {
     "name": "stdout",
     "output_type": "stream",
     "text": [
      "\n",
      "\n"
     ]
    }
   ],
   "source": [
    "possible_tokens = completion.choices[0].logprobs.content\n",
    "html_content = f\"Question: {QUESTION}<br>Answer: {message.parsed.president_name}<br>\"\n",
    "for i , token in enumerate(possible_tokens,start=1):\n",
    "    html_content+=f\"<span style='color: cyan'>Output token {i}:</span><br>\"\n",
    "    for j, logprob in enumerate(token.top_logprobs):\n",
    "        html_content += (\n",
    "            f\"{logprob.token}, <span style='color: darkorange'>logprobs:</span> {logprob.logprob}, \"\n",
    "            f\"<span style='color: magenta'>linear probability:</span> {np.round(np.exp(logprob.logprob)*100,2)}%<br>\"\n",
    "        )\n",
    "display(HTML(html_content))\n",
    "print(\"\\n\")"
   ]
  },
  {
   "cell_type": "markdown",
   "id": "7c258b83-2f14-446d-992a-f3f082f63fdd",
   "metadata": {},
   "source": [
    "---"
   ]
  },
  {
   "cell_type": "code",
   "execution_count": null,
   "id": "7440115f-75da-4113-a257-16fe8704d0aa",
   "metadata": {},
   "outputs": [],
   "source": []
  }
 ],
 "metadata": {
  "kernelspec": {
   "display_name": "Python 3 (ipykernel)",
   "language": "python",
   "name": "python3"
  },
  "language_info": {
   "codemirror_mode": {
    "name": "ipython",
    "version": 3
   },
   "file_extension": ".py",
   "mimetype": "text/x-python",
   "name": "python",
   "nbconvert_exporter": "python",
   "pygments_lexer": "ipython3",
   "version": "3.12.5"
  }
 },
 "nbformat": 4,
 "nbformat_minor": 5
}
