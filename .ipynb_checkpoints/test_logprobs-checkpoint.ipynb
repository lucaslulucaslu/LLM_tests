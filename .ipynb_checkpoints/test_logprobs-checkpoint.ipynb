{
 "cells": [
  {
   "cell_type": "code",
   "execution_count": 1,
   "id": "1b3f9e11-abdd-48d4-bb21-5deda533d873",
   "metadata": {},
   "outputs": [],
   "source": [
    "import os\n",
    "from math import exp\n",
    "\n",
    "import numpy as np\n",
    "from IPython.display import HTML, display\n",
    "from openai import OpenAI\n",
    "\n",
    "client = OpenAI(api_key=os.environ.get(\"OPENAI_API_KEY\"))"
   ]
  },
  {
   "cell_type": "code",
   "execution_count": 20,
   "id": "c4888ad5-1656-4566-b680-ccc3c7d16150",
   "metadata": {},
   "outputs": [],
   "source": [
    "def get_completion(\n",
    "    messages: list[dict[str, str]],\n",
    "    model: str = \"gpt-4o-mini\",\n",
    "    max_tokens=500,\n",
    "    temperature=0,\n",
    "    stop=None,\n",
    "    seed=123,\n",
    "    tools=None,\n",
    "    logprobs=None,  # whether to return log probabilities of the output tokens or not. If true, returns the log probabilities of each output token returned in the content of message..\n",
    "    top_logprobs=None,\n",
    ") -> str:\n",
    "    params = {\n",
    "        \"model\": model,\n",
    "        \"messages\": messages,\n",
    "        \"max_tokens\": max_tokens,\n",
    "        \"temperature\": temperature,\n",
    "        \"stop\": stop,\n",
    "        \"seed\": seed,\n",
    "        \"logprobs\": logprobs,\n",
    "        \"top_logprobs\": top_logprobs,\n",
    "    }\n",
    "    if tools:\n",
    "        params[\"tools\"] = tools\n",
    "\n",
    "    completion = client.chat.completions.create(**params)\n",
    "    return completion"
   ]
  },
  {
   "cell_type": "code",
   "execution_count": 3,
   "id": "749f479b-30a3-49fe-acb0-d3783433f1c2",
   "metadata": {},
   "outputs": [],
   "source": [
    "CLASSIFICATION_PROMPT = \"\"\"You will be given a headline of a news article.\n",
    "Classify the article into one of the following categories: Technology, Politics, Sports, and Art.\n",
    "Return only the name of the category, and nothing else.\n",
    "MAKE SURE your output is one of the four categories stated.\n",
    "Article headline: {headline}\"\"\""
   ]
  },
  {
   "cell_type": "code",
   "execution_count": 4,
   "id": "ee203d59-630d-4163-ad50-69de286f6c68",
   "metadata": {},
   "outputs": [],
   "source": [
    "headlines = [\n",
    "    \"Tech Giant Unveils Latest Smartphone Model with Advanced Photo-Editing Features.\",\n",
    "    \"Local Mayor Launches Initiative to Enhance Urban Public Transport.\",\n",
    "    \"Tennis Champion Showcases Hidden Talents in Symphony Orchestra Debut\",\n",
    "]"
   ]
  },
  {
   "cell_type": "code",
   "execution_count": 5,
   "id": "7858c560-4f90-4079-9282-be64d348a14b",
   "metadata": {},
   "outputs": [
    {
     "name": "stdout",
     "output_type": "stream",
     "text": [
      "\n",
      "Headline: Tech Giant Unveils Latest Smartphone Model with Advanced Photo-Editing Features.\n"
     ]
    },
    {
     "data": {
      "text/html": [
       "<span style='color: cyan'>Output token 1:</span> Technology, <span style='color: darkorange'>logprobs:</span> 0.0, <span style='color: magenta'>linear probability:</span> 100.0%<br><span style='color: cyan'>Output token 2:</span>  Technology, <span style='color: darkorange'>logprobs:</span> -19.0, <span style='color: magenta'>linear probability:</span> 0.0%<br>"
      ],
      "text/plain": [
       "<IPython.core.display.HTML object>"
      ]
     },
     "metadata": {},
     "output_type": "display_data"
    },
    {
     "name": "stdout",
     "output_type": "stream",
     "text": [
      "\n",
      "\n",
      "\n",
      "Headline: Local Mayor Launches Initiative to Enhance Urban Public Transport.\n"
     ]
    },
    {
     "data": {
      "text/html": [
       "<span style='color: cyan'>Output token 1:</span> Politics, <span style='color: darkorange'>logprobs:</span> -3.1281633e-07, <span style='color: magenta'>linear probability:</span> 100.0%<br><span style='color: cyan'>Output token 2:</span> Polit, <span style='color: darkorange'>logprobs:</span> -16.0, <span style='color: magenta'>linear probability:</span> 0.0%<br>"
      ],
      "text/plain": [
       "<IPython.core.display.HTML object>"
      ]
     },
     "metadata": {},
     "output_type": "display_data"
    },
    {
     "name": "stdout",
     "output_type": "stream",
     "text": [
      "\n",
      "\n",
      "\n",
      "Headline: Tennis Champion Showcases Hidden Talents in Symphony Orchestra Debut\n"
     ]
    },
    {
     "data": {
      "text/html": [
       "<span style='color: cyan'>Output token 1:</span> Art, <span style='color: darkorange'>logprobs:</span> -0.023291714, <span style='color: magenta'>linear probability:</span> 97.7%<br><span style='color: cyan'>Output token 2:</span> Arts, <span style='color: darkorange'>logprobs:</span> -4.0232916, <span style='color: magenta'>linear probability:</span> 1.79%<br>"
      ],
      "text/plain": [
       "<IPython.core.display.HTML object>"
      ]
     },
     "metadata": {},
     "output_type": "display_data"
    },
    {
     "name": "stdout",
     "output_type": "stream",
     "text": [
      "\n",
      "\n"
     ]
    }
   ],
   "source": [
    "for headline in headlines:\n",
    "    print(f\"\\nHeadline: {headline}\")\n",
    "    API_RESPONSE = get_completion(\n",
    "        [{\"role\": \"user\", \"content\": CLASSIFICATION_PROMPT.format(headline=headline)}],\n",
    "        logprobs=True,\n",
    "        top_logprobs=2,\n",
    "    )\n",
    "    top_two_logprobs = API_RESPONSE.choices[0].logprobs.content[0].top_logprobs\n",
    "    html_content = \"\"\n",
    "    for i, logprob in enumerate(top_two_logprobs, start=1):\n",
    "        html_content += (\n",
    "            f\"<span style='color: cyan'>Output token {i}:</span> {logprob.token}, \"\n",
    "            f\"<span style='color: darkorange'>logprobs:</span> {logprob.logprob}, \"\n",
    "            f\"<span style='color: magenta'>linear probability:</span> {np.round(np.exp(logprob.logprob)*100,2)}%<br>\"\n",
    "        )\n",
    "    display(HTML(html_content))\n",
    "    print(\"\\n\")"
   ]
  },
  {
   "cell_type": "code",
   "execution_count": 15,
   "id": "0ed9211a-1faa-4123-a5d5-59fbbbf5e0c1",
   "metadata": {},
   "outputs": [],
   "source": [
    "TEST_PROMPT = \"\"\"Give me the name of the president of US at year 2000, return only the name, and nothing else\"\"\""
   ]
  },
  {
   "cell_type": "code",
   "execution_count": 16,
   "id": "a0a39159-07d2-40e8-b1d3-508b0ec49ede",
   "metadata": {},
   "outputs": [
    {
     "data": {
      "text/html": [
       "Question: Give me the name of the president of US at year 2000, return only the name, and nothing else<br>Answer: Bill Clinton<br><span style='color: cyan'>Output token 1:</span><br>Bill, <span style='color: darkorange'>logprobs:</span> -2.868329e-05, <span style='color: magenta'>linear probability:</span> 100.0%<br>William, <span style='color: darkorange'>logprobs:</span> -10.500029, <span style='color: magenta'>linear probability:</span> 0.0%<br> Bill, <span style='color: darkorange'>logprobs:</span> -14.500029, <span style='color: magenta'>linear probability:</span> 0.0%<br><span style='color: cyan'>Output token 2:</span><br> Clinton, <span style='color: darkorange'>logprobs:</span> -1.9361265e-07, <span style='color: magenta'>linear probability:</span> 100.0%<br> Clint, <span style='color: darkorange'>logprobs:</span> -17.125, <span style='color: magenta'>linear probability:</span> 0.0%<br> Cl, <span style='color: darkorange'>logprobs:</span> -17.5, <span style='color: magenta'>linear probability:</span> 0.0%<br>"
      ],
      "text/plain": [
       "<IPython.core.display.HTML object>"
      ]
     },
     "metadata": {},
     "output_type": "display_data"
    },
    {
     "name": "stdout",
     "output_type": "stream",
     "text": [
      "\n",
      "\n"
     ]
    }
   ],
   "source": [
    "api_response=get_completion(\n",
    "    [{\"role\":\"user\",\"content\":TEST_PROMPT}],\n",
    "    logprobs=True,\n",
    "    top_logprobs=3,\n",
    ")\n",
    "generate_answer=api_response.choices[0].message.content\n",
    "\n",
    "possible_tokens = api_response.choices[0].logprobs.content\n",
    "html_content = f\"Question: {TEST_PROMPT}<br>Answer: {generate_answer}<br>\"\n",
    "for i , token in enumerate(possible_tokens,start=1):\n",
    "    html_content+=f\"<span style='color: cyan'>Output token {i}:</span><br>\"\n",
    "    for j, logprob in enumerate(token.top_logprobs):\n",
    "        html_content += (\n",
    "            f\"{logprob.token}, <span style='color: darkorange'>logprobs:</span> {logprob.logprob}, \"\n",
    "            f\"<span style='color: magenta'>linear probability:</span> {np.round(np.exp(logprob.logprob)*100,2)}%<br>\"\n",
    "        )\n",
    "display(HTML(html_content))\n",
    "print(\"\\n\")"
   ]
  },
  {
   "cell_type": "code",
   "execution_count": 47,
   "id": "0a8e3978-3bf9-4721-b8b6-4ceb2afe2087",
   "metadata": {},
   "outputs": [],
   "source": [
    "SYS_PROMPT=\"\"\"You are given an article: {article}. You are going to answer user's question only based on this article, but before you answer the question, \\\n",
    "        please consider you have sufficient information in the article to answer the question. \\\n",
    "        Then answer the question. \\\n",
    "        After you answer the question, please check if your answer fully based on the article given, and if the answer addressed the question well.\"\"\"\n",
    "USER_PROMPT=\"\"\"Question: {question}\"\"\"\n",
    "ARTICLE=\"The president of the US at year of 2000 is Bill Clinton, and the president of the US at year 2024 is Joe Biden\"\n",
    "QUESTION=\"Give me the name of the president of US at year 2010, return only the name, and nothing else\""
   ]
  },
  {
   "cell_type": "code",
   "execution_count": 52,
   "id": "25ec8a09-32db-4ddc-af4f-18316297574d",
   "metadata": {},
   "outputs": [
    {
     "name": "stdout",
     "output_type": "stream",
     "text": [
      "No\n",
      "\n",
      "On\n"
     ]
    }
   ],
   "source": [
    "from pydantic import BaseModel,Field\n",
    "\n",
    "\n",
    "class PresidentName(BaseModel):\n",
    "    pre_validation: str = Field(description=\"Before you answer, consider if you have sufficient information in the article to answer the question, Yes or No only, nothing else\")\n",
    "    president_name: str = Field(description=\"The name of the president, nothing else\")\n",
    "    post_validation: str = Field(descrption=\"After you answer the question, check if your answer fully based on the article given, and answer the question well, Yes or On only, nothing else\")\n",
    "\n",
    "completion = client.beta.chat.completions.parse(\n",
    "    model=\"gpt-4o-mini\",\n",
    "    messages=[\n",
    "        {\"role\": \"system\", \"content\": SYS_PROMPT.format(article=ARTICLE)},\n",
    "        {\"role\": \"user\", \"content\": USER_PROMPT.format(question=QUESTION)},\n",
    "    ],\n",
    "    response_format=PresidentName,\n",
    "    logprobs=True,\n",
    "    top_logprobs=2,\n",
    ")\n",
    "\n",
    "message = completion.choices[0].message\n",
    "if message.parsed:\n",
    "    print(message.parsed.pre_validation)\n",
    "    print(message.parsed.president_name)\n",
    "    print(message.parsed.post_validation)\n",
    "else:\n",
    "    print(message.refusal)"
   ]
  },
  {
   "cell_type": "code",
   "execution_count": 53,
   "id": "e1faf5d2-1ded-41cd-8793-44086528189d",
   "metadata": {},
   "outputs": [
    {
     "data": {
      "text/plain": [
       "ParsedChoice[PresidentName](finish_reason='stop', index=0, logprobs=ChoiceLogprobs(content=[ChatCompletionTokenLogprob(token='{\"', bytes=[123, 34], logprob=0.0, top_logprobs=[TopLogprob(token='{\"', bytes=[123, 34], logprob=0.0), TopLogprob(token='{', bytes=[123], logprob=-17.375)]), ChatCompletionTokenLogprob(token='pre', bytes=[112, 114, 101], logprob=0.0, top_logprobs=[TopLogprob(token='pre', bytes=[112, 114, 101], logprob=0.0), TopLogprob(token='pr', bytes=[112, 114], logprob=-19.125)]), ChatCompletionTokenLogprob(token='_validation', bytes=[95, 118, 97, 108, 105, 100, 97, 116, 105, 111, 110], logprob=0.0, top_logprobs=[TopLogprob(token='_validation', bytes=[95, 118, 97, 108, 105, 100, 97, 116, 105, 111, 110], logprob=0.0), TopLogprob(token='_valid', bytes=[95, 118, 97, 108, 105, 100], logprob=-18.875)]), ChatCompletionTokenLogprob(token='\":\"', bytes=[34, 58, 34], logprob=0.0, top_logprobs=[TopLogprob(token='\":\"', bytes=[34, 58, 34], logprob=0.0), TopLogprob(token='\":\"\",\"', bytes=[34, 58, 34, 34, 44, 34], logprob=-19.875)]), ChatCompletionTokenLogprob(token='No', bytes=[78, 111], logprob=-0.00055303273, top_logprobs=[TopLogprob(token='No', bytes=[78, 111], logprob=-0.00055303273), TopLogprob(token='Yes', bytes=[89, 101, 115], logprob=-7.500553)]), ChatCompletionTokenLogprob(token='\",\"', bytes=[34, 44, 34], logprob=-3.1281633e-07, top_logprobs=[TopLogprob(token='\",\"', bytes=[34, 44, 34], logprob=-3.1281633e-07), TopLogprob(token='.\",\"', bytes=[46, 34, 44, 34], logprob=-15.375)]), ChatCompletionTokenLogprob(token='pres', bytes=[112, 114, 101, 115], logprob=0.0, top_logprobs=[TopLogprob(token='pres', bytes=[112, 114, 101, 115], logprob=0.0), TopLogprob(token='pre', bytes=[112, 114, 101], logprob=-22.125)]), ChatCompletionTokenLogprob(token='ident', bytes=[105, 100, 101, 110, 116], logprob=0.0, top_logprobs=[TopLogprob(token='ident', bytes=[105, 100, 101, 110, 116], logprob=0.0), TopLogprob(token='id', bytes=[105, 100], logprob=-17.375)]), ChatCompletionTokenLogprob(token='_name', bytes=[95, 110, 97, 109, 101], logprob=0.0, top_logprobs=[TopLogprob(token='_name', bytes=[95, 110, 97, 109, 101], logprob=0.0), TopLogprob(token='_n', bytes=[95, 110], logprob=-24.5)]), ChatCompletionTokenLogprob(token='\":\"\",\"', bytes=[34, 58, 34, 34, 44, 34], logprob=-0.00034332962, top_logprobs=[TopLogprob(token='\":\"\",\"', bytes=[34, 58, 34, 34, 44, 34], logprob=-0.00034332962), TopLogprob(token='\":', bytes=[34, 58], logprob=-8.500343)]), ChatCompletionTokenLogprob(token='post', bytes=[112, 111, 115, 116], logprob=0.0, top_logprobs=[TopLogprob(token='post', bytes=[112, 111, 115, 116], logprob=0.0), TopLogprob(token='po', bytes=[112, 111], logprob=-24.25)]), ChatCompletionTokenLogprob(token='_validation', bytes=[95, 118, 97, 108, 105, 100, 97, 116, 105, 111, 110], logprob=0.0, top_logprobs=[TopLogprob(token='_validation', bytes=[95, 118, 97, 108, 105, 100, 97, 116, 105, 111, 110], logprob=0.0), TopLogprob(token='_valid', bytes=[95, 118, 97, 108, 105, 100], logprob=-19.625)]), ChatCompletionTokenLogprob(token='\":\"', bytes=[34, 58, 34], logprob=-0.023245595, top_logprobs=[TopLogprob(token='\":\"', bytes=[34, 58, 34], logprob=-0.023245595), TopLogprob(token='\":', bytes=[34, 58], logprob=-3.7732456)]), ChatCompletionTokenLogprob(token='On', bytes=[79, 110], logprob=-1.7014778, top_logprobs=[TopLogprob(token='No', bytes=[78, 111], logprob=-0.20147775), TopLogprob(token='On', bytes=[79, 110], logprob=-1.7014778)]), ChatCompletionTokenLogprob(token='\"}', bytes=[34, 125], logprob=-3.1281633e-07, top_logprobs=[TopLogprob(token='\"}', bytes=[34, 125], logprob=-3.1281633e-07), TopLogprob(token=' \"}', bytes=[32, 34, 125], logprob=-15.25)])], refusal=None), message=ParsedChatCompletionMessage[PresidentName](content='{\"pre_validation\":\"No\",\"president_name\":\"\",\"post_validation\":\"On\"}', refusal=None, role='assistant', function_call=None, tool_calls=[], parsed=PresidentName(pre_validation='No', president_name='', post_validation='On')))"
      ]
     },
     "execution_count": 53,
     "metadata": {},
     "output_type": "execute_result"
    }
   ],
   "source": [
    "completion.choices[0]"
   ]
  },
  {
   "cell_type": "code",
   "execution_count": 54,
   "id": "e8ea51e0-c748-49ab-b976-95aa08fcbf42",
   "metadata": {},
   "outputs": [
    {
     "data": {
      "text/html": [
       "Question: Give me the name of the president of US at year 2010, return only the name, and nothing else<br>Answer: <br><span style='color: cyan'>Output token 1:</span><br>{\", <span style='color: darkorange'>logprobs:</span> 0.0, <span style='color: magenta'>linear probability:</span> 100.0%<br>{, <span style='color: darkorange'>logprobs:</span> -17.375, <span style='color: magenta'>linear probability:</span> 0.0%<br><span style='color: cyan'>Output token 2:</span><br>pre, <span style='color: darkorange'>logprobs:</span> 0.0, <span style='color: magenta'>linear probability:</span> 100.0%<br>pr, <span style='color: darkorange'>logprobs:</span> -19.125, <span style='color: magenta'>linear probability:</span> 0.0%<br><span style='color: cyan'>Output token 3:</span><br>_validation, <span style='color: darkorange'>logprobs:</span> 0.0, <span style='color: magenta'>linear probability:</span> 100.0%<br>_valid, <span style='color: darkorange'>logprobs:</span> -18.875, <span style='color: magenta'>linear probability:</span> 0.0%<br><span style='color: cyan'>Output token 4:</span><br>\":\", <span style='color: darkorange'>logprobs:</span> 0.0, <span style='color: magenta'>linear probability:</span> 100.0%<br>\":\"\",\", <span style='color: darkorange'>logprobs:</span> -19.875, <span style='color: magenta'>linear probability:</span> 0.0%<br><span style='color: cyan'>Output token 5:</span><br>No, <span style='color: darkorange'>logprobs:</span> -0.00055303273, <span style='color: magenta'>linear probability:</span> 99.94%<br>Yes, <span style='color: darkorange'>logprobs:</span> -7.500553, <span style='color: magenta'>linear probability:</span> 0.06%<br><span style='color: cyan'>Output token 6:</span><br>\",\", <span style='color: darkorange'>logprobs:</span> -3.1281633e-07, <span style='color: magenta'>linear probability:</span> 100.0%<br>.\",\", <span style='color: darkorange'>logprobs:</span> -15.375, <span style='color: magenta'>linear probability:</span> 0.0%<br><span style='color: cyan'>Output token 7:</span><br>pres, <span style='color: darkorange'>logprobs:</span> 0.0, <span style='color: magenta'>linear probability:</span> 100.0%<br>pre, <span style='color: darkorange'>logprobs:</span> -22.125, <span style='color: magenta'>linear probability:</span> 0.0%<br><span style='color: cyan'>Output token 8:</span><br>ident, <span style='color: darkorange'>logprobs:</span> 0.0, <span style='color: magenta'>linear probability:</span> 100.0%<br>id, <span style='color: darkorange'>logprobs:</span> -17.375, <span style='color: magenta'>linear probability:</span> 0.0%<br><span style='color: cyan'>Output token 9:</span><br>_name, <span style='color: darkorange'>logprobs:</span> 0.0, <span style='color: magenta'>linear probability:</span> 100.0%<br>_n, <span style='color: darkorange'>logprobs:</span> -24.5, <span style='color: magenta'>linear probability:</span> 0.0%<br><span style='color: cyan'>Output token 10:</span><br>\":\"\",\", <span style='color: darkorange'>logprobs:</span> -0.00034332962, <span style='color: magenta'>linear probability:</span> 99.97%<br>\":, <span style='color: darkorange'>logprobs:</span> -8.500343, <span style='color: magenta'>linear probability:</span> 0.02%<br><span style='color: cyan'>Output token 11:</span><br>post, <span style='color: darkorange'>logprobs:</span> 0.0, <span style='color: magenta'>linear probability:</span> 100.0%<br>po, <span style='color: darkorange'>logprobs:</span> -24.25, <span style='color: magenta'>linear probability:</span> 0.0%<br><span style='color: cyan'>Output token 12:</span><br>_validation, <span style='color: darkorange'>logprobs:</span> 0.0, <span style='color: magenta'>linear probability:</span> 100.0%<br>_valid, <span style='color: darkorange'>logprobs:</span> -19.625, <span style='color: magenta'>linear probability:</span> 0.0%<br><span style='color: cyan'>Output token 13:</span><br>\":\", <span style='color: darkorange'>logprobs:</span> -0.023245595, <span style='color: magenta'>linear probability:</span> 97.7%<br>\":, <span style='color: darkorange'>logprobs:</span> -3.7732456, <span style='color: magenta'>linear probability:</span> 2.3%<br><span style='color: cyan'>Output token 14:</span><br>No, <span style='color: darkorange'>logprobs:</span> -0.20147775, <span style='color: magenta'>linear probability:</span> 81.75%<br>On, <span style='color: darkorange'>logprobs:</span> -1.7014778, <span style='color: magenta'>linear probability:</span> 18.24%<br><span style='color: cyan'>Output token 15:</span><br>\"}, <span style='color: darkorange'>logprobs:</span> -3.1281633e-07, <span style='color: magenta'>linear probability:</span> 100.0%<br> \"}, <span style='color: darkorange'>logprobs:</span> -15.25, <span style='color: magenta'>linear probability:</span> 0.0%<br>"
      ],
      "text/plain": [
       "<IPython.core.display.HTML object>"
      ]
     },
     "metadata": {},
     "output_type": "display_data"
    },
    {
     "name": "stdout",
     "output_type": "stream",
     "text": [
      "\n",
      "\n"
     ]
    }
   ],
   "source": [
    "possible_tokens = completion.choices[0].logprobs.content\n",
    "html_content = f\"Question: {QUESTION}<br>Answer: {message.parsed.president_name}<br>\"\n",
    "for i , token in enumerate(possible_tokens,start=1):\n",
    "    html_content+=f\"<span style='color: cyan'>Output token {i}:</span><br>\"\n",
    "    for j, logprob in enumerate(token.top_logprobs):\n",
    "        html_content += (\n",
    "            f\"{logprob.token}, <span style='color: darkorange'>logprobs:</span> {logprob.logprob}, \"\n",
    "            f\"<span style='color: magenta'>linear probability:</span> {np.round(np.exp(logprob.logprob)*100,2)}%<br>\"\n",
    "        )\n",
    "display(HTML(html_content))\n",
    "print(\"\\n\")"
   ]
  },
  {
   "cell_type": "code",
   "execution_count": null,
   "id": "3991c8e5-b82f-4b3f-a9c3-ca2000beab47",
   "metadata": {},
   "outputs": [],
   "source": []
  }
 ],
 "metadata": {
  "kernelspec": {
   "display_name": "Python 3 (ipykernel)",
   "language": "python",
   "name": "python3"
  },
  "language_info": {
   "codemirror_mode": {
    "name": "ipython",
    "version": 3
   },
   "file_extension": ".py",
   "mimetype": "text/x-python",
   "name": "python",
   "nbconvert_exporter": "python",
   "pygments_lexer": "ipython3",
   "version": "3.12.5"
  }
 },
 "nbformat": 4,
 "nbformat_minor": 5
}
